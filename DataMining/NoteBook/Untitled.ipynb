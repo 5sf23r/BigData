{
 "cells": [
  {
   "cell_type": "code",
   "execution_count": 3,
   "metadata": {},
   "outputs": [
    {
     "name": "stdout",
     "output_type": "stream",
     "text": [
      "10 10.0\n",
      "<class 'int'> <class 'float'>\n"
     ]
    }
   ],
   "source": [
    "x1 = 10\n",
    "x2 = 10.0\n",
    "print(x1,x2)\n",
    "print(type(x1),type(x2))"
   ]
  },
  {
   "cell_type": "code",
   "execution_count": 7,
   "metadata": {},
   "outputs": [
    {
     "name": "stdout",
     "output_type": "stream",
     "text": [
      "[98, 66, 45, 45, 32, 12, 3] ['c', 'b', 'a']\n"
     ]
    }
   ],
   "source": [
    "lst1 = [12,45,32,98,45,66,3]\n",
    "lst2 = [\"a\",\"c\",\"b\"]\n",
    "lst1.sort(reverse = True)\n",
    "lst2.sort(reverse = True)\n",
    "print(lst1,lst2)\n"
   ]
  }
 ],
 "metadata": {
  "kernelspec": {
   "display_name": "Python 3",
   "language": "python",
   "name": "python3"
  },
  "language_info": {
   "codemirror_mode": {
    "name": "ipython",
    "version": 3
   },
   "file_extension": ".py",
   "mimetype": "text/x-python",
   "name": "python",
   "nbconvert_exporter": "python",
   "pygments_lexer": "ipython3",
   "version": "3.8.3"
  }
 },
 "nbformat": 4,
 "nbformat_minor": 4
}
